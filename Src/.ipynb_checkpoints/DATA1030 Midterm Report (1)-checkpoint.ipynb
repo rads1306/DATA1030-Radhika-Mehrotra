{
 "cells": [
  {
   "cell_type": "markdown",
   "id": "cf4ba179",
   "metadata": {},
   "source": [
    "# Importing Packages"
   ]
  },
  {
   "cell_type": "code",
   "execution_count": 1,
   "id": "35ab2fc2",
   "metadata": {},
   "outputs": [],
   "source": [
    "import pandas as pd\n",
    "import numpy as np\n",
    "import matplotlib.pyplot as plt\n",
    "import os\n",
    "my_path = os.path.abspath('/Users/radhikamehrotra/Documents/DATA1030-Fall2021/DATA1030-Fall2021/Midterm Report')\n",
    "from sklearn.model_selection import TimeSeriesSplit\n",
    "from sklearn.preprocessing import OneHotEncoder\n",
    "from sklearn.preprocessing import StandardScaler\n",
    "from sklearn.preprocessing import OrdinalEncoder"
   ]
  },
  {
   "cell_type": "markdown",
   "id": "6d3da4be",
   "metadata": {},
   "source": [
    "# Reading in the Data"
   ]
  },
  {
   "cell_type": "code",
   "execution_count": 2,
   "id": "383feb06",
   "metadata": {
    "scrolled": true
   },
   "outputs": [
    {
     "ename": "FileNotFoundError",
     "evalue": "[Errno 2] No such file or directory: '/Users/radhikamehrotra/Documents/DATA1030-Fall2021/DATA1030-Fall2021/Midterm Report/Data/SeoulBikeData.csv'",
     "output_type": "error",
     "traceback": [
      "\u001b[0;31m---------------------------------------------------------------------------\u001b[0m",
      "\u001b[0;31mFileNotFoundError\u001b[0m                         Traceback (most recent call last)",
      "\u001b[0;32m/var/folders/7c/kfk054ws5hl38f7c6tkg7hs40000gn/T/ipykernel_50173/3436249911.py\u001b[0m in \u001b[0;36m<module>\u001b[0;34m\u001b[0m\n\u001b[0;32m----> 1\u001b[0;31m \u001b[0mdf\u001b[0m \u001b[0;34m=\u001b[0m \u001b[0mpd\u001b[0m\u001b[0;34m.\u001b[0m\u001b[0mread_csv\u001b[0m\u001b[0;34m(\u001b[0m\u001b[0;34m'/Users/radhikamehrotra/Documents/DATA1030-Fall2021/DATA1030-Fall2021/Midterm Report/Data/SeoulBikeData.csv'\u001b[0m\u001b[0;34m,\u001b[0m \u001b[0mencoding\u001b[0m\u001b[0;34m=\u001b[0m\u001b[0;34m\"ISO-8859-1\"\u001b[0m\u001b[0;34m)\u001b[0m\u001b[0;34m\u001b[0m\u001b[0;34m\u001b[0m\u001b[0m\n\u001b[0m\u001b[1;32m      2\u001b[0m \u001b[0mdf\u001b[0m\u001b[0;34m\u001b[0m\u001b[0;34m\u001b[0m\u001b[0m\n",
      "\u001b[0;32m~/opt/anaconda3/envs/data1030/lib/python3.9/site-packages/pandas/util/_decorators.py\u001b[0m in \u001b[0;36mwrapper\u001b[0;34m(*args, **kwargs)\u001b[0m\n\u001b[1;32m    309\u001b[0m                     \u001b[0mstacklevel\u001b[0m\u001b[0;34m=\u001b[0m\u001b[0mstacklevel\u001b[0m\u001b[0;34m,\u001b[0m\u001b[0;34m\u001b[0m\u001b[0;34m\u001b[0m\u001b[0m\n\u001b[1;32m    310\u001b[0m                 )\n\u001b[0;32m--> 311\u001b[0;31m             \u001b[0;32mreturn\u001b[0m \u001b[0mfunc\u001b[0m\u001b[0;34m(\u001b[0m\u001b[0;34m*\u001b[0m\u001b[0margs\u001b[0m\u001b[0;34m,\u001b[0m \u001b[0;34m**\u001b[0m\u001b[0mkwargs\u001b[0m\u001b[0;34m)\u001b[0m\u001b[0;34m\u001b[0m\u001b[0;34m\u001b[0m\u001b[0m\n\u001b[0m\u001b[1;32m    312\u001b[0m \u001b[0;34m\u001b[0m\u001b[0m\n\u001b[1;32m    313\u001b[0m         \u001b[0;32mreturn\u001b[0m \u001b[0mwrapper\u001b[0m\u001b[0;34m\u001b[0m\u001b[0;34m\u001b[0m\u001b[0m\n",
      "\u001b[0;32m~/opt/anaconda3/envs/data1030/lib/python3.9/site-packages/pandas/io/parsers/readers.py\u001b[0m in \u001b[0;36mread_csv\u001b[0;34m(filepath_or_buffer, sep, delimiter, header, names, index_col, usecols, squeeze, prefix, mangle_dupe_cols, dtype, engine, converters, true_values, false_values, skipinitialspace, skiprows, skipfooter, nrows, na_values, keep_default_na, na_filter, verbose, skip_blank_lines, parse_dates, infer_datetime_format, keep_date_col, date_parser, dayfirst, cache_dates, iterator, chunksize, compression, thousands, decimal, lineterminator, quotechar, quoting, doublequote, escapechar, comment, encoding, encoding_errors, dialect, error_bad_lines, warn_bad_lines, on_bad_lines, delim_whitespace, low_memory, memory_map, float_precision, storage_options)\u001b[0m\n\u001b[1;32m    584\u001b[0m     \u001b[0mkwds\u001b[0m\u001b[0;34m.\u001b[0m\u001b[0mupdate\u001b[0m\u001b[0;34m(\u001b[0m\u001b[0mkwds_defaults\u001b[0m\u001b[0;34m)\u001b[0m\u001b[0;34m\u001b[0m\u001b[0;34m\u001b[0m\u001b[0m\n\u001b[1;32m    585\u001b[0m \u001b[0;34m\u001b[0m\u001b[0m\n\u001b[0;32m--> 586\u001b[0;31m     \u001b[0;32mreturn\u001b[0m \u001b[0m_read\u001b[0m\u001b[0;34m(\u001b[0m\u001b[0mfilepath_or_buffer\u001b[0m\u001b[0;34m,\u001b[0m \u001b[0mkwds\u001b[0m\u001b[0;34m)\u001b[0m\u001b[0;34m\u001b[0m\u001b[0;34m\u001b[0m\u001b[0m\n\u001b[0m\u001b[1;32m    587\u001b[0m \u001b[0;34m\u001b[0m\u001b[0m\n\u001b[1;32m    588\u001b[0m \u001b[0;34m\u001b[0m\u001b[0m\n",
      "\u001b[0;32m~/opt/anaconda3/envs/data1030/lib/python3.9/site-packages/pandas/io/parsers/readers.py\u001b[0m in \u001b[0;36m_read\u001b[0;34m(filepath_or_buffer, kwds)\u001b[0m\n\u001b[1;32m    480\u001b[0m \u001b[0;34m\u001b[0m\u001b[0m\n\u001b[1;32m    481\u001b[0m     \u001b[0;31m# Create the parser.\u001b[0m\u001b[0;34m\u001b[0m\u001b[0;34m\u001b[0m\u001b[0m\n\u001b[0;32m--> 482\u001b[0;31m     \u001b[0mparser\u001b[0m \u001b[0;34m=\u001b[0m \u001b[0mTextFileReader\u001b[0m\u001b[0;34m(\u001b[0m\u001b[0mfilepath_or_buffer\u001b[0m\u001b[0;34m,\u001b[0m \u001b[0;34m**\u001b[0m\u001b[0mkwds\u001b[0m\u001b[0;34m)\u001b[0m\u001b[0;34m\u001b[0m\u001b[0;34m\u001b[0m\u001b[0m\n\u001b[0m\u001b[1;32m    483\u001b[0m \u001b[0;34m\u001b[0m\u001b[0m\n\u001b[1;32m    484\u001b[0m     \u001b[0;32mif\u001b[0m \u001b[0mchunksize\u001b[0m \u001b[0;32mor\u001b[0m \u001b[0miterator\u001b[0m\u001b[0;34m:\u001b[0m\u001b[0;34m\u001b[0m\u001b[0;34m\u001b[0m\u001b[0m\n",
      "\u001b[0;32m~/opt/anaconda3/envs/data1030/lib/python3.9/site-packages/pandas/io/parsers/readers.py\u001b[0m in \u001b[0;36m__init__\u001b[0;34m(self, f, engine, **kwds)\u001b[0m\n\u001b[1;32m    809\u001b[0m             \u001b[0mself\u001b[0m\u001b[0;34m.\u001b[0m\u001b[0moptions\u001b[0m\u001b[0;34m[\u001b[0m\u001b[0;34m\"has_index_names\"\u001b[0m\u001b[0;34m]\u001b[0m \u001b[0;34m=\u001b[0m \u001b[0mkwds\u001b[0m\u001b[0;34m[\u001b[0m\u001b[0;34m\"has_index_names\"\u001b[0m\u001b[0;34m]\u001b[0m\u001b[0;34m\u001b[0m\u001b[0;34m\u001b[0m\u001b[0m\n\u001b[1;32m    810\u001b[0m \u001b[0;34m\u001b[0m\u001b[0m\n\u001b[0;32m--> 811\u001b[0;31m         \u001b[0mself\u001b[0m\u001b[0;34m.\u001b[0m\u001b[0m_engine\u001b[0m \u001b[0;34m=\u001b[0m \u001b[0mself\u001b[0m\u001b[0;34m.\u001b[0m\u001b[0m_make_engine\u001b[0m\u001b[0;34m(\u001b[0m\u001b[0mself\u001b[0m\u001b[0;34m.\u001b[0m\u001b[0mengine\u001b[0m\u001b[0;34m)\u001b[0m\u001b[0;34m\u001b[0m\u001b[0;34m\u001b[0m\u001b[0m\n\u001b[0m\u001b[1;32m    812\u001b[0m \u001b[0;34m\u001b[0m\u001b[0m\n\u001b[1;32m    813\u001b[0m     \u001b[0;32mdef\u001b[0m \u001b[0mclose\u001b[0m\u001b[0;34m(\u001b[0m\u001b[0mself\u001b[0m\u001b[0;34m)\u001b[0m\u001b[0;34m:\u001b[0m\u001b[0;34m\u001b[0m\u001b[0;34m\u001b[0m\u001b[0m\n",
      "\u001b[0;32m~/opt/anaconda3/envs/data1030/lib/python3.9/site-packages/pandas/io/parsers/readers.py\u001b[0m in \u001b[0;36m_make_engine\u001b[0;34m(self, engine)\u001b[0m\n\u001b[1;32m   1038\u001b[0m             )\n\u001b[1;32m   1039\u001b[0m         \u001b[0;31m# error: Too many arguments for \"ParserBase\"\u001b[0m\u001b[0;34m\u001b[0m\u001b[0;34m\u001b[0m\u001b[0m\n\u001b[0;32m-> 1040\u001b[0;31m         \u001b[0;32mreturn\u001b[0m \u001b[0mmapping\u001b[0m\u001b[0;34m[\u001b[0m\u001b[0mengine\u001b[0m\u001b[0;34m]\u001b[0m\u001b[0;34m(\u001b[0m\u001b[0mself\u001b[0m\u001b[0;34m.\u001b[0m\u001b[0mf\u001b[0m\u001b[0;34m,\u001b[0m \u001b[0;34m**\u001b[0m\u001b[0mself\u001b[0m\u001b[0;34m.\u001b[0m\u001b[0moptions\u001b[0m\u001b[0;34m)\u001b[0m  \u001b[0;31m# type: ignore[call-arg]\u001b[0m\u001b[0;34m\u001b[0m\u001b[0;34m\u001b[0m\u001b[0m\n\u001b[0m\u001b[1;32m   1041\u001b[0m \u001b[0;34m\u001b[0m\u001b[0m\n\u001b[1;32m   1042\u001b[0m     \u001b[0;32mdef\u001b[0m \u001b[0m_failover_to_python\u001b[0m\u001b[0;34m(\u001b[0m\u001b[0mself\u001b[0m\u001b[0;34m)\u001b[0m\u001b[0;34m:\u001b[0m\u001b[0;34m\u001b[0m\u001b[0;34m\u001b[0m\u001b[0m\n",
      "\u001b[0;32m~/opt/anaconda3/envs/data1030/lib/python3.9/site-packages/pandas/io/parsers/c_parser_wrapper.py\u001b[0m in \u001b[0;36m__init__\u001b[0;34m(self, src, **kwds)\u001b[0m\n\u001b[1;32m     49\u001b[0m \u001b[0;34m\u001b[0m\u001b[0m\n\u001b[1;32m     50\u001b[0m         \u001b[0;31m# open handles\u001b[0m\u001b[0;34m\u001b[0m\u001b[0;34m\u001b[0m\u001b[0m\n\u001b[0;32m---> 51\u001b[0;31m         \u001b[0mself\u001b[0m\u001b[0;34m.\u001b[0m\u001b[0m_open_handles\u001b[0m\u001b[0;34m(\u001b[0m\u001b[0msrc\u001b[0m\u001b[0;34m,\u001b[0m \u001b[0mkwds\u001b[0m\u001b[0;34m)\u001b[0m\u001b[0;34m\u001b[0m\u001b[0;34m\u001b[0m\u001b[0m\n\u001b[0m\u001b[1;32m     52\u001b[0m         \u001b[0;32massert\u001b[0m \u001b[0mself\u001b[0m\u001b[0;34m.\u001b[0m\u001b[0mhandles\u001b[0m \u001b[0;32mis\u001b[0m \u001b[0;32mnot\u001b[0m \u001b[0;32mNone\u001b[0m\u001b[0;34m\u001b[0m\u001b[0;34m\u001b[0m\u001b[0m\n\u001b[1;32m     53\u001b[0m \u001b[0;34m\u001b[0m\u001b[0m\n",
      "\u001b[0;32m~/opt/anaconda3/envs/data1030/lib/python3.9/site-packages/pandas/io/parsers/base_parser.py\u001b[0m in \u001b[0;36m_open_handles\u001b[0;34m(self, src, kwds)\u001b[0m\n\u001b[1;32m    220\u001b[0m         \u001b[0mLet\u001b[0m \u001b[0mthe\u001b[0m \u001b[0mreaders\u001b[0m \u001b[0mopen\u001b[0m \u001b[0mIOHandles\u001b[0m \u001b[0mafter\u001b[0m \u001b[0mthey\u001b[0m \u001b[0mare\u001b[0m \u001b[0mdone\u001b[0m \u001b[0;32mwith\u001b[0m \u001b[0mtheir\u001b[0m \u001b[0mpotential\u001b[0m \u001b[0mraises\u001b[0m\u001b[0;34m.\u001b[0m\u001b[0;34m\u001b[0m\u001b[0;34m\u001b[0m\u001b[0m\n\u001b[1;32m    221\u001b[0m         \"\"\"\n\u001b[0;32m--> 222\u001b[0;31m         self.handles = get_handle(\n\u001b[0m\u001b[1;32m    223\u001b[0m             \u001b[0msrc\u001b[0m\u001b[0;34m,\u001b[0m\u001b[0;34m\u001b[0m\u001b[0;34m\u001b[0m\u001b[0m\n\u001b[1;32m    224\u001b[0m             \u001b[0;34m\"r\"\u001b[0m\u001b[0;34m,\u001b[0m\u001b[0;34m\u001b[0m\u001b[0;34m\u001b[0m\u001b[0m\n",
      "\u001b[0;32m~/opt/anaconda3/envs/data1030/lib/python3.9/site-packages/pandas/io/common.py\u001b[0m in \u001b[0;36mget_handle\u001b[0;34m(path_or_buf, mode, encoding, compression, memory_map, is_text, errors, storage_options)\u001b[0m\n\u001b[1;32m    699\u001b[0m         \u001b[0;32mif\u001b[0m \u001b[0mioargs\u001b[0m\u001b[0;34m.\u001b[0m\u001b[0mencoding\u001b[0m \u001b[0;32mand\u001b[0m \u001b[0;34m\"b\"\u001b[0m \u001b[0;32mnot\u001b[0m \u001b[0;32min\u001b[0m \u001b[0mioargs\u001b[0m\u001b[0;34m.\u001b[0m\u001b[0mmode\u001b[0m\u001b[0;34m:\u001b[0m\u001b[0;34m\u001b[0m\u001b[0;34m\u001b[0m\u001b[0m\n\u001b[1;32m    700\u001b[0m             \u001b[0;31m# Encoding\u001b[0m\u001b[0;34m\u001b[0m\u001b[0;34m\u001b[0m\u001b[0m\n\u001b[0;32m--> 701\u001b[0;31m             handle = open(\n\u001b[0m\u001b[1;32m    702\u001b[0m                 \u001b[0mhandle\u001b[0m\u001b[0;34m,\u001b[0m\u001b[0;34m\u001b[0m\u001b[0;34m\u001b[0m\u001b[0m\n\u001b[1;32m    703\u001b[0m                 \u001b[0mioargs\u001b[0m\u001b[0;34m.\u001b[0m\u001b[0mmode\u001b[0m\u001b[0;34m,\u001b[0m\u001b[0;34m\u001b[0m\u001b[0;34m\u001b[0m\u001b[0m\n",
      "\u001b[0;31mFileNotFoundError\u001b[0m: [Errno 2] No such file or directory: '/Users/radhikamehrotra/Documents/DATA1030-Fall2021/DATA1030-Fall2021/Midterm Report/Data/SeoulBikeData.csv'"
     ]
    }
   ],
   "source": [
    "df = pd.read_csv('/Users/radhikamehrotra/Documents/DATA1030-Fall2021/DATA1030-Fall2021/Midterm Report/Data/SeoulBikeData.csv', encoding=\"ISO-8859-1\")\n",
    "df"
   ]
  },
  {
   "cell_type": "code",
   "execution_count": null,
   "id": "5428e7d1",
   "metadata": {},
   "outputs": [],
   "source": [
    "#Shuffling around some columns in the dataset to get the Target variable as the last column\n",
    "df = df[['Date','Hour', 'Temperature(°C)', 'Humidity(%)',\n",
    "       'Wind speed (m/s)', 'Visibility (10m)', 'Dew point temperature(°C)',\n",
    "       'Solar Radiation (MJ/m2)', 'Rainfall(mm)', 'Snowfall (cm)', 'Seasons',\n",
    "       'Holiday', 'Functioning Day', 'Rented Bike Count']]\n",
    "df"
   ]
  },
  {
   "cell_type": "code",
   "execution_count": null,
   "id": "887c7105",
   "metadata": {},
   "outputs": [],
   "source": [
    "#Transforming string type Date to datetime \n",
    "df.Date = pd.to_datetime(df.Date,dayfirst = True)"
   ]
  },
  {
   "cell_type": "markdown",
   "id": "39ceb27a",
   "metadata": {},
   "source": [
    "# EDA "
   ]
  },
  {
   "cell_type": "markdown",
   "id": "40f306a0",
   "metadata": {},
   "source": [
    "## Analyzing Rows and Columns"
   ]
  },
  {
   "cell_type": "code",
   "execution_count": null,
   "id": "c6bf8651",
   "metadata": {},
   "outputs": [],
   "source": [
    "#Shape of datat (number of rows and columns)\n",
    "print(df.shape)\n",
    "print(df.columns)"
   ]
  },
  {
   "cell_type": "code",
   "execution_count": null,
   "id": "1b18ad52",
   "metadata": {},
   "outputs": [],
   "source": [
    "#column data types\n",
    "df.dtypes"
   ]
  },
  {
   "cell_type": "code",
   "execution_count": null,
   "id": "d996fdce",
   "metadata": {},
   "outputs": [],
   "source": [
    "#Determining if the columns are continuous or categorical (using code written in my previous HW)\n",
    "catcontdict = {}\n",
    "for i in range(len(df.columns)):   \n",
    "        count = 0\n",
    "        for value in (df[df.columns[i]]).value_counts(normalize = True):\n",
    "            if value < 0.05:\n",
    "                count += 1\n",
    "                \n",
    "        if count > 0.8 * len (df[df.columns[i]].value_counts()) and len (df[df.columns[i]].value_counts()) > 10:\n",
    "            catcontdict[df.columns[i]] = \"Continuous\"\n",
    "        else:\n",
    "            catcontdict[df.columns[i]] = \"Categorical\"\n",
    "            \n",
    "print(catcontdict) "
   ]
  },
  {
   "cell_type": "markdown",
   "id": "d1884c8e",
   "metadata": {},
   "source": [
    "## Analyzing Target Variable"
   ]
  },
  {
   "cell_type": "code",
   "execution_count": null,
   "id": "520acb8e",
   "metadata": {},
   "outputs": [],
   "source": [
    "#General statistics of target variable 'Y'\n",
    "df['Rented Bike Count'].value_counts()"
   ]
  },
  {
   "cell_type": "code",
   "execution_count": null,
   "id": "e73eee32",
   "metadata": {},
   "outputs": [],
   "source": [
    "df['Rented Bike Count'].describe()"
   ]
  },
  {
   "cell_type": "code",
   "execution_count": null,
   "id": "f987646f",
   "metadata": {
    "scrolled": false
   },
   "outputs": [],
   "source": [
    "#Plotting histogram for Target variable\n",
    "fig = plt.figure()\n",
    "df['Rented Bike Count'].plot.hist(bins = int(np.sqrt(df.shape[0])))\n",
    "plt.title('Histogram: Distribution of No. of Bikes Rented (Target Variable)')\n",
    "plt.xlabel('Number of Bikes Rented')\n",
    "plt.show()\n",
    "fig.savefig(my_path + '/Figures/fig1.png')"
   ]
  },
  {
   "cell_type": "markdown",
   "id": "245218ae",
   "metadata": {},
   "source": [
    "## Analyzing each feature variable"
   ]
  },
  {
   "cell_type": "markdown",
   "id": "8d863e26",
   "metadata": {},
   "source": [
    "### 1. Date"
   ]
  },
  {
   "cell_type": "code",
   "execution_count": null,
   "id": "fb1db740",
   "metadata": {},
   "outputs": [],
   "source": [
    "df[\"Date\"].value_counts().sort_index()"
   ]
  },
  {
   "cell_type": "code",
   "execution_count": null,
   "id": "2cdddc2d",
   "metadata": {
    "scrolled": true
   },
   "outputs": [],
   "source": [
    "df[\"Date\"].describe()"
   ]
  },
  {
   "cell_type": "markdown",
   "id": "08f05817",
   "metadata": {},
   "source": [
    "### 2. Hour of the Day"
   ]
  },
  {
   "cell_type": "code",
   "execution_count": null,
   "id": "6606d233",
   "metadata": {
    "scrolled": false
   },
   "outputs": [],
   "source": [
    "df[\"Hour\"].value_counts().sort_index()"
   ]
  },
  {
   "cell_type": "markdown",
   "id": "e70e62c2",
   "metadata": {},
   "source": [
    "### 3. Temperature in degree celsius"
   ]
  },
  {
   "cell_type": "code",
   "execution_count": null,
   "id": "eaef2635",
   "metadata": {
    "scrolled": true
   },
   "outputs": [],
   "source": [
    "df[\"Temperature(°C)\"].value_counts().sort_index()"
   ]
  },
  {
   "cell_type": "code",
   "execution_count": null,
   "id": "cbe103d4",
   "metadata": {},
   "outputs": [],
   "source": [
    "df[\"Temperature(°C)\"].describe()"
   ]
  },
  {
   "cell_type": "code",
   "execution_count": null,
   "id": "c74e6272",
   "metadata": {},
   "outputs": [],
   "source": [
    "#Plotting histogram for Temperature\n",
    "fig = plt.figure()\n",
    "df['Temperature(°C)'].plot.hist(bins = int(np.sqrt(df.shape[0])))\n",
    "#df['Temperature(°C)'].plot.hist(bins  = df['Temperature(°C)'].nunique())                       \n",
    "plt.title('Histogram: Distribution of Temperature(°C)')\n",
    "plt.xlabel('Temperature(°C)')\n",
    "plt.show()\n",
    "fig.savefig(my_path + '/Figures/fig2.png')"
   ]
  },
  {
   "cell_type": "markdown",
   "id": "55d13859",
   "metadata": {},
   "source": [
    "### 4. Humidity (%)"
   ]
  },
  {
   "cell_type": "code",
   "execution_count": null,
   "id": "7702a930",
   "metadata": {},
   "outputs": [],
   "source": [
    "df[\"Humidity(%)\"].value_counts().sort_index()"
   ]
  },
  {
   "cell_type": "code",
   "execution_count": null,
   "id": "df62831a",
   "metadata": {},
   "outputs": [],
   "source": [
    "df[\"Humidity(%)\"].describe()"
   ]
  },
  {
   "cell_type": "code",
   "execution_count": null,
   "id": "7920b33e",
   "metadata": {},
   "outputs": [],
   "source": [
    "#Plotting histogram for Humidity\n",
    "fig = plt.figure()\n",
    "df['Humidity(%)'].plot.hist(bins = int(np.sqrt(df.shape[0])))\n",
    "#df['Temperature(°C)'].plot.hist(bins  = df['Temperature(°C)'].nunique())                       \n",
    "plt.title('Histogram: Distribution of Humidity(%)')\n",
    "plt.xlabel('Humidity(%)')\n",
    "plt.show()\n",
    "fig.savefig(my_path + '/Figures/fig3.png')"
   ]
  },
  {
   "cell_type": "markdown",
   "id": "53cc8eba",
   "metadata": {},
   "source": [
    "### 5. Wind speed (m/s)"
   ]
  },
  {
   "cell_type": "code",
   "execution_count": null,
   "id": "f308f519",
   "metadata": {},
   "outputs": [],
   "source": [
    "df[\"Wind speed (m/s)\"].value_counts().sort_index()"
   ]
  },
  {
   "cell_type": "code",
   "execution_count": null,
   "id": "dd9790bb",
   "metadata": {},
   "outputs": [],
   "source": [
    "df[\"Wind speed (m/s)\"].describe()"
   ]
  },
  {
   "cell_type": "code",
   "execution_count": null,
   "id": "fce955e9",
   "metadata": {},
   "outputs": [],
   "source": [
    "#Plotting histogram for Wind Speed\n",
    "fig = plt.figure()\n",
    "df['Wind speed (m/s)'].plot.hist(bins = int(np.sqrt(df.shape[0])))\n",
    "#df['Temperature(°C)'].plot.hist(bins  = df['Temperature(°C)'].nunique())                       \n",
    "plt.title('Histogram: Distribution of Wind speed (m/s)')\n",
    "plt.xlabel('Wind speed (m/s)')\n",
    "plt.show()\n",
    "fig.savefig(my_path + '/Figures/fig4.png')"
   ]
  },
  {
   "cell_type": "markdown",
   "id": "afaf3f6e",
   "metadata": {},
   "source": [
    "### 6. Visibility (10m)"
   ]
  },
  {
   "cell_type": "code",
   "execution_count": null,
   "id": "2840ba46",
   "metadata": {},
   "outputs": [],
   "source": [
    "df[\"Visibility (10m)\"].value_counts().sort_index()"
   ]
  },
  {
   "cell_type": "code",
   "execution_count": null,
   "id": "52f8f471",
   "metadata": {},
   "outputs": [],
   "source": [
    "df[\"Visibility (10m)\"].describe()"
   ]
  },
  {
   "cell_type": "code",
   "execution_count": null,
   "id": "02c88be1",
   "metadata": {
    "scrolled": true
   },
   "outputs": [],
   "source": [
    "#Plotting histogram for Visibility (10m)\n",
    "fig = plt.figure()\n",
    "df['Visibility (10m)'].plot.hist(bins = int(np.sqrt(df.shape[0])))\n",
    "#df['Temperature(°C)'].plot.hist(bins  = df['Temperature(°C)'].nunique())                       \n",
    "plt.title('Histogram: Distribution of Visibility (10m)')\n",
    "plt.xlabel('Visibility (10m)')\n",
    "plt.show()\n",
    "fig.savefig(my_path + '/Figures/fig5.png')"
   ]
  },
  {
   "cell_type": "markdown",
   "id": "52d60d20",
   "metadata": {},
   "source": [
    "### 7. Dew Point Temperature in degree celsius"
   ]
  },
  {
   "cell_type": "code",
   "execution_count": null,
   "id": "116f75be",
   "metadata": {},
   "outputs": [],
   "source": [
    "df[\"Dew point temperature(°C)\"].value_counts().sort_index()"
   ]
  },
  {
   "cell_type": "code",
   "execution_count": null,
   "id": "68488872",
   "metadata": {},
   "outputs": [],
   "source": [
    "df[\"Dew point temperature(°C)\"].describe()"
   ]
  },
  {
   "cell_type": "code",
   "execution_count": null,
   "id": "ed924c41",
   "metadata": {},
   "outputs": [],
   "source": [
    "#Plotting histogram for Dew point temperature(°C)\n",
    "fig = plt.figure()\n",
    "df['Dew point temperature(°C)'].plot.hist(bins = int(np.sqrt(df.shape[0])))\n",
    "#df['Dew point temperature(°C)'].plot.hist(bins  = df['Dew point temperature(°C)'].nunique())                       \n",
    "plt.title('Histogram: Distribution of Dew point temperature(°C)')\n",
    "plt.xlabel('Dew point temperature(°C)')\n",
    "plt.show()\n",
    "fig.savefig(my_path + '/Figures/fig6.png')"
   ]
  },
  {
   "cell_type": "markdown",
   "id": "3d14885a",
   "metadata": {},
   "source": [
    "### 8. Solar Radiation"
   ]
  },
  {
   "cell_type": "code",
   "execution_count": null,
   "id": "86761231",
   "metadata": {},
   "outputs": [],
   "source": [
    "df[\"Solar Radiation (MJ/m2)\"].value_counts().sort_index()"
   ]
  },
  {
   "cell_type": "code",
   "execution_count": null,
   "id": "166552a0",
   "metadata": {},
   "outputs": [],
   "source": [
    "df[\"Solar Radiation (MJ/m2)\"].describe()"
   ]
  },
  {
   "cell_type": "code",
   "execution_count": null,
   "id": "05c335da",
   "metadata": {},
   "outputs": [],
   "source": [
    "#Plotting histogram for Solar Radiation (MJ/m2)\n",
    "df['Solar Radiation (MJ/m2)'].plot.hist(bins = int(np.sqrt(df.shape[0])))\n",
    "#df['Solar Radiation (MJ/m2)'].plot.hist(bins  = df['Solar Radiation (MJ/m2)'].nunique())                       \n",
    "plt.title('Histogram: Distribution of Solar Radiation (MJ/m2)')\n",
    "plt.xlabel('Solar Radiation (MJ/m2)')\n",
    "plt.show()\n",
    "fig.savefig(my_path + '/Figures/fig7.png')"
   ]
  },
  {
   "cell_type": "markdown",
   "id": "2a647065",
   "metadata": {},
   "source": [
    "### 9. Rainfall"
   ]
  },
  {
   "cell_type": "code",
   "execution_count": null,
   "id": "a909c20c",
   "metadata": {},
   "outputs": [],
   "source": [
    "df[\"Rainfall(mm)\"].value_counts().sort_index()"
   ]
  },
  {
   "cell_type": "code",
   "execution_count": null,
   "id": "01e31bb4",
   "metadata": {},
   "outputs": [],
   "source": [
    "df[\"Rainfall(mm)\"].describe()"
   ]
  },
  {
   "cell_type": "code",
   "execution_count": null,
   "id": "9b27bcfa",
   "metadata": {},
   "outputs": [],
   "source": [
    "#Plotting histogram for Rainfall(mm)\n",
    "df['Rainfall(mm)'].plot.hist(bins = int(np.sqrt(df.shape[0])))                    \n",
    "plt.title('Histogram: Distribution of Rainfall(mm)')\n",
    "plt.xlabel('Rainfall(mm)')\n",
    "plt.show()\n",
    "fig.savefig(my_path + '/Figures/fig8.png')"
   ]
  },
  {
   "cell_type": "markdown",
   "id": "395d668c",
   "metadata": {},
   "source": [
    "### 10. Snowfall"
   ]
  },
  {
   "cell_type": "code",
   "execution_count": null,
   "id": "fb11f925",
   "metadata": {},
   "outputs": [],
   "source": [
    "df[\"Snowfall (cm)\"].value_counts()"
   ]
  },
  {
   "cell_type": "code",
   "execution_count": null,
   "id": "88dccd1a",
   "metadata": {},
   "outputs": [],
   "source": [
    "df[\"Snowfall (cm)\"].describe()"
   ]
  },
  {
   "cell_type": "code",
   "execution_count": null,
   "id": "c029205c",
   "metadata": {},
   "outputs": [],
   "source": [
    "#Plotting histogram forSnowfall (cm)\n",
    "df['Snowfall (cm)'].plot.hist(bins = int(np.sqrt(df.shape[0])))                     \n",
    "plt.title('Histogram: Distribution of Snowfall (cm)')\n",
    "plt.xlabel('Snowfall (cm)')\n",
    "plt.show()\n",
    "fig.savefig(my_path + '/Figures/fig9.png')"
   ]
  },
  {
   "cell_type": "markdown",
   "id": "7e5b2103",
   "metadata": {},
   "source": [
    "### 11. Seasons "
   ]
  },
  {
   "cell_type": "code",
   "execution_count": null,
   "id": "64bc41f1",
   "metadata": {},
   "outputs": [],
   "source": [
    "df[\"Seasons\"].value_counts().sort_index()"
   ]
  },
  {
   "cell_type": "code",
   "execution_count": null,
   "id": "0e2460b4",
   "metadata": {},
   "outputs": [],
   "source": [
    "df[\"Seasons\"].describe()"
   ]
  },
  {
   "cell_type": "markdown",
   "id": "165eaa15",
   "metadata": {},
   "source": [
    "### 12. Holiday"
   ]
  },
  {
   "cell_type": "code",
   "execution_count": null,
   "id": "d9fa43f1",
   "metadata": {},
   "outputs": [],
   "source": [
    "df[\"Holiday\"].value_counts().sort_index()"
   ]
  },
  {
   "cell_type": "code",
   "execution_count": null,
   "id": "9cc9e580",
   "metadata": {},
   "outputs": [],
   "source": [
    "df[\"Holiday\"].describe()"
   ]
  },
  {
   "cell_type": "markdown",
   "id": "c20e016b",
   "metadata": {},
   "source": [
    "### 13. Functioning Day"
   ]
  },
  {
   "cell_type": "code",
   "execution_count": null,
   "id": "ec6cc426",
   "metadata": {},
   "outputs": [],
   "source": [
    "df[\"Functioning Day\"].value_counts().sort_index()"
   ]
  },
  {
   "cell_type": "code",
   "execution_count": null,
   "id": "5ad9417e",
   "metadata": {},
   "outputs": [],
   "source": [
    "df[\"Functioning Day\"].describe()"
   ]
  },
  {
   "cell_type": "markdown",
   "id": "bb43d3a0",
   "metadata": {},
   "source": [
    "## Scatter Matrix"
   ]
  },
  {
   "cell_type": "code",
   "execution_count": null,
   "id": "3a5af1d1",
   "metadata": {},
   "outputs": [],
   "source": [
    "#Plotting all the possible combinations of the features against eachother for EDA\n",
    "pd.plotting.scatter_matrix(df.select_dtypes(float), figsize=(9, 9), marker='o',hist_kwds={'bins': 50}, \n",
    "                           s=30, alpha=.2)\n",
    "plt.show()\n",
    "fig.savefig(my_path + '/Figures/fig10.png')"
   ]
  },
  {
   "cell_type": "markdown",
   "id": "7070b198",
   "metadata": {},
   "source": [
    "## Analyzing different relationships between target variable and features"
   ]
  },
  {
   "cell_type": "code",
   "execution_count": null,
   "id": "bbcf3211",
   "metadata": {
    "scrolled": true
   },
   "outputs": [],
   "source": [
    "for i in range(len(df.columns)):\n",
    "    if catcontdict[df.columns[i]] == 'Categorical':\n",
    "        df[[df.columns[i], 'Rented Bike Count']].boxplot(by= df.columns[i])\n",
    "        plt.title(\"Rented Bike Count Vs \"+ str(df.columns[i]))\n",
    "        plt.suptitle(\"\")\n",
    "        plt.xlabel(df.columns[i])\n",
    "        plt.ylabel(\"Rented Bike Count\")\n",
    "        plt.show()\n",
    "        fig.savefig(my_path + '/Figures/'+ df.columns[i]+'.png')\n",
    "        \n",
    "    else:\n",
    "        df.plot.scatter(df.columns[i],'Rented Bike Count', s=8)\n",
    "        plt.xlabel(df.columns[i])\n",
    "        plt.ylabel(\"Rented Bike Count\")\n",
    "        plt.title(\"Rented Bike Count Vs \" + str(df.columns[i]))\n",
    "        plt.show()\n",
    "        fig.savefig(my_path + '/Figures/'+ df.columns[i]+'.png')"
   ]
  },
  {
   "cell_type": "markdown",
   "id": "d56a9486",
   "metadata": {},
   "source": [
    "### Grouping Data by the date to get data at day level"
   ]
  },
  {
   "cell_type": "code",
   "execution_count": null,
   "id": "1d77e810",
   "metadata": {
    "scrolled": true
   },
   "outputs": [],
   "source": [
    "df2 = df.groupby('Date', as_index = False).mean()\n",
    "df2"
   ]
  },
  {
   "cell_type": "code",
   "execution_count": null,
   "id": "2e6c586e",
   "metadata": {
    "scrolled": true
   },
   "outputs": [],
   "source": [
    "df2['Seasons'] =''\n",
    "df2['Holiday'] =''\n",
    "df2['Functioning Day'] = ''\n",
    "for i in range(len(df2['Date'])):\n",
    "    for j in range(len(df['Date'])):\n",
    "        if df['Date'][j] == df2['Date'][i]:\n",
    "            df2['Seasons'][i] = df['Seasons'][j]\n",
    "            df2['Holiday'][i] = df['Holiday'][j]\n",
    "            df2['Functioning Day'][i] = df['Functioning Day'][j]\n",
    "      "
   ]
  },
  {
   "cell_type": "code",
   "execution_count": null,
   "id": "aaaf3a7c",
   "metadata": {
    "scrolled": true
   },
   "outputs": [],
   "source": [
    "df2 = df2[['Date', 'Hour', 'Temperature(°C)', 'Humidity(%)', 'Wind speed (m/s)',\n",
    "       'Visibility (10m)', 'Dew point temperature(°C)',\n",
    "       'Solar Radiation (MJ/m2)', 'Rainfall(mm)', 'Snowfall (cm)','Seasons', 'Holiday', 'Functioning Day',\n",
    "       'Rented Bike Count']]\n",
    "df2"
   ]
  },
  {
   "cell_type": "code",
   "execution_count": null,
   "id": "050ea5d7",
   "metadata": {
    "scrolled": true
   },
   "outputs": [],
   "source": [
    "for i in range(len(df2.columns)):\n",
    "    if catcontdict[df2.columns[i]] == 'Categorical':\n",
    "        df2[[df2.columns[i], 'Rented Bike Count']].boxplot(by= df2.columns[i])\n",
    "        plt.title(\"Rented Bike Count Vs \"+ str(df2.columns[i]))\n",
    "        plt.suptitle(\"\")\n",
    "        plt.xlabel(df2.columns[i])\n",
    "        plt.ylabel(\"Rented Bike Count\")\n",
    "        plt.show()\n",
    "        fig.savefig(my_path + '/Figures/'+ df.columns[i]+'2.png')\n",
    "        \n",
    "    else:\n",
    "        df2.plot.scatter(df2.columns[i],'Rented Bike Count', s=8)\n",
    "        plt.xlabel(df2.columns[i])\n",
    "        plt.ylabel(\"Rented Bike Count\")\n",
    "        plt.title(\"Rented Bike Count Vs \" + str(df.columns[i]))\n",
    "        plt.show()\n",
    "        fig.savefig(my_path + '/Figures/'+ df.columns[i]+'2.png')"
   ]
  },
  {
   "cell_type": "markdown",
   "id": "cfe16e93",
   "metadata": {},
   "source": [
    "### Grouping Data by month to get data at monthly level"
   ]
  },
  {
   "cell_type": "code",
   "execution_count": null,
   "id": "d3e9663e",
   "metadata": {},
   "outputs": [],
   "source": [
    "df3 = df2\n",
    "df3['Year'] = df2['Date'].dt.year\n",
    "df3['Month'] = df2['Date'].dt.month\n",
    "df3 = df3[['Date',  'Year', 'Month','Hour', 'Temperature(°C)', 'Humidity(%)', 'Wind speed (m/s)',\n",
    "       'Visibility (10m)', 'Dew point temperature(°C)',\n",
    "       'Solar Radiation (MJ/m2)', 'Rainfall(mm)', 'Snowfall (cm)', 'Seasons',\n",
    "       'Holiday', 'Functioning Day', 'Rented Bike Count']]"
   ]
  },
  {
   "cell_type": "code",
   "execution_count": null,
   "id": "8826b1db",
   "metadata": {
    "scrolled": false
   },
   "outputs": [],
   "source": [
    "df_month = df3.groupby('Month', as_index = False).mean()\n",
    "df_month"
   ]
  },
  {
   "cell_type": "code",
   "execution_count": null,
   "id": "d68c0292",
   "metadata": {},
   "outputs": [],
   "source": [
    "df_month['Month Name'] = ''\n",
    "for i in range(len(df_month['Month'])):\n",
    "    if df_month['Month'][i] == 1:\n",
    "        df_month['Month Name'][i] = 'Jan'\n",
    "    \n",
    "    if df_month['Month'][i] == 2:\n",
    "        df_month['Month Name'][i] = 'Feb'\n",
    "        \n",
    "    if df_month['Month'][i] == 3:\n",
    "        df_month['Month Name'][i] = 'Mar'\n",
    "        \n",
    "    if df_month['Month'][i] == 4:\n",
    "        df_month['Month Name'][i] = 'Apr'\n",
    "        \n",
    "    if df_month['Month'][i] == 5:\n",
    "        df_month['Month Name'][i] = 'May'\n",
    "        \n",
    "    if df_month['Month'][i] == 6:\n",
    "        df_month['Month Name'][i] = 'Jun'\n",
    "        \n",
    "    if df_month['Month'][i] == 7:\n",
    "        df_month['Month Name'][i] = 'Jul'\n",
    "        \n",
    "    if df_month['Month'][i] == 8:\n",
    "        df_month['Month Name'][i] = 'Aug'\n",
    "        \n",
    "    if df_month['Month'][i] == 9:\n",
    "        df_month['Month Name'][i] = 'Sep'\n",
    "        \n",
    "    if df_month['Month'][i] == 10:\n",
    "        df_month['Month Name'][i] = 'Oct'\n",
    "        \n",
    "    if df_month['Month'][i] == 11:\n",
    "        df_month['Month Name'][i] = 'Nov'\n",
    "        \n",
    "    if df_month['Month'][i] == 12:\n",
    "        df_month['Month Name'][i] = 'Dec'\n",
    "              \n",
    "df_month"
   ]
  },
  {
   "cell_type": "code",
   "execution_count": null,
   "id": "df3d7fd9",
   "metadata": {},
   "outputs": [],
   "source": [
    "plt.plot(df_month['Month Name'],df_month['Rented Bike Count'])\n",
    "positions = (0,1,2,3,4,5,6,7,8,9,10,11)\n",
    "labels = [\"Dec '17\", \"Jan '18\", \"Feb '18\", \"Mar '18\", \"Apr '18\", \"May '18\", \"Jun '18\", \n",
    "          \"Jul '18\", \"Aug '18\", \"Sep '18\", \"Oct '18\", \"Nov '18\"]\n",
    "plt.title('Number of bikes rented in a month')\n",
    "plt.xlabel('Month')\n",
    "plt.xticks(positions, labels, rotation = 45)\n",
    "plt.ylabel('Number of bikes rented')\n",
    "plt.show()\n",
    "fig.savefig(my_path + '/Figures/fig11.png')"
   ]
  },
  {
   "cell_type": "code",
   "execution_count": null,
   "id": "334cfb81",
   "metadata": {},
   "outputs": [],
   "source": [
    "df_month.plot.scatter('Month Name', 'Rented Bike Count', s=25)\n",
    "positions = (0,1,2,3,4,5,6,7,8,9,10,11)\n",
    "labels = [\"Dec '17\", \"Jan '18\", \"Feb '18\", \"Mar '18\", \"Apr '18\", \"May '18\", \"Jun '18\", \n",
    "          \"Jul '18\", \"Aug '18\", \"Sep '18\", \"Oct '18\", \"Nov '18\"]\n",
    "plt.title('Number of bikes rented in a month')\n",
    "plt.xlabel('Month')\n",
    "plt.xticks(positions, labels, rotation = 45)\n",
    "plt.ylabel('Number of bikes rented')\n",
    "plt.show()\n",
    "fig.savefig(my_path + '/Figures/fig12.png')"
   ]
  },
  {
   "cell_type": "markdown",
   "id": "080646cc",
   "metadata": {},
   "source": [
    "# Data Splitting"
   ]
  },
  {
   "cell_type": "code",
   "execution_count": null,
   "id": "a91aa508",
   "metadata": {},
   "outputs": [],
   "source": [
    "X = df.iloc[: , 0:13]\n",
    "y = df.iloc[: , 13:14]"
   ]
  },
  {
   "cell_type": "code",
   "execution_count": null,
   "id": "607182d5",
   "metadata": {},
   "outputs": [],
   "source": [
    "from sklearn.model_selection import train_test_split \n",
    "random_state = 13\n",
    "X_train, X_other, y_train, y_other = train_test_split(X,y,train_size = 0.8,random_state=random_state)\n",
    "print('training set:',X_train.shape, y_train.shape) \n",
    "print(X_other.shape, y_other.shape) \n",
    "\n",
    "# second split to separate out the validation and test sets\n",
    "X_val, X_test, y_val, y_test = train_test_split(X_other,y_other,train_size = 0.5,random_state=random_state)\n",
    "print('validation set:',X_val.shape, y_val.shape) \n",
    "print('test set:',X_test.shape, y_test.shape) \n",
    "\n",
    "\n"
   ]
  },
  {
   "cell_type": "markdown",
   "id": "12201a11",
   "metadata": {},
   "source": [
    " # Data Preprocessing"
   ]
  },
  {
   "cell_type": "markdown",
   "id": "380cdc12",
   "metadata": {},
   "source": [
    "## Preprocessing the Categorical columns and the Continuous Columns\n",
    "\n",
    "### Using One Hot Encoder (Categorical, unordered)"
   ]
  },
  {
   "cell_type": "code",
   "execution_count": null,
   "id": "98049503",
   "metadata": {
    "scrolled": true
   },
   "outputs": [],
   "source": [
    "#Preprocessing Categorical Data (columns \"Seasons\", \"Holiday\", \"Functioning Day\")\n",
    "#let's collect all categorical features first\n",
    "onehot_ftrs = [\"Seasons\", \"Holiday\", \"Functioning Day\"]\n",
    "#initialize the encoder\n",
    "enc = OneHotEncoder(sparse=False,handle_unknown='ignore') \n",
    "#fit the training data\n",
    "enc.fit(X_train[onehot_ftrs])\n",
    "print('categories:',enc.categories_)\n",
    "print('feature names:',enc.get_feature_names(onehot_ftrs))\n",
    "print(len(enc.get_feature_names(onehot_ftrs)))\n",
    "\n",
    "X_train_ohe = enc.transform(X_train[onehot_ftrs])\n",
    "print('X_train transformed')\n",
    "print(X_train_ohe)\n",
    "\n",
    "X_test_ohe = enc.transform(X_test[onehot_ftrs])\n",
    "print('X_test transformed')\n",
    "print(X_test_ohe)"
   ]
  },
  {
   "cell_type": "markdown",
   "id": "7d973e8d",
   "metadata": {},
   "source": [
    "## Using Standard Scalar for continuous data"
   ]
  },
  {
   "cell_type": "code",
   "execution_count": null,
   "id": "fd6d56ef",
   "metadata": {},
   "outputs": [],
   "source": [
    "std_ftrs = ['Hour','Temperature(°C)', 'Humidity(%)',\n",
    "       'Wind speed (m/s)', 'Visibility (10m)', 'Dew point temperature(°C)',\n",
    "       'Solar Radiation (MJ/m2)', 'Rainfall(mm)', 'Snowfall (cm)']\n",
    "scaler = StandardScaler()\n",
    "print(scaler.fit_transform(X_train[std_ftrs]))\n",
    "print(scaler.transform(X_val[std_ftrs]))\n",
    "print(scaler.transform(X_test[std_ftrs]))"
   ]
  }
 ],
 "metadata": {
  "kernelspec": {
   "display_name": "Python 3 (ipykernel)",
   "language": "python",
   "name": "python3"
  },
  "language_info": {
   "codemirror_mode": {
    "name": "ipython",
    "version": 3
   },
   "file_extension": ".py",
   "mimetype": "text/x-python",
   "name": "python",
   "nbconvert_exporter": "python",
   "pygments_lexer": "ipython3",
   "version": "3.9.7"
  }
 },
 "nbformat": 4,
 "nbformat_minor": 5
}
